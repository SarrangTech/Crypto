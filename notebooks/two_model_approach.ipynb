{
 "cells": [
  {
   "cell_type": "code",
   "execution_count": 1,
   "id": "321c620d",
   "metadata": {},
   "outputs": [],
   "source": [
    "import numpy as np\n",
    "import pandas as pd\n",
    "import plotly.graph_objects as go\n",
    "import pytz\n",
    "from datetime import datetime, timedelta\n",
    "import yfinance as yf\n",
    "from tensorflow.keras.models import load_model\n",
    "from sklearn.preprocessing import MinMaxScaler\n",
    "import ipywidgets as widgets\n",
    "from IPython.display import display, clear_output\n",
    "import warnings\n",
    "warnings.filterwarnings(\"ignore\")"
   ]
  },
  {
   "cell_type": "code",
   "execution_count": 13,
   "id": "3354f7bb",
   "metadata": {},
   "outputs": [],
   "source": [
    "# Function to load data and model based on user selection\n",
    "def load_data_and_model(n_days):\n",
    "    # Load the appropriate model based on the number of days selected\n",
    "    if n_days == 1:\n",
    "        model = load_model('C:\\\\Users\\\\Sarrang\\\\Desktop\\\\lstm_btc_V2.h5')\n",
    "        # Fetch hourly data for the last 60 hours\n",
    "        end_date = datetime.now(pytz.timezone('Asia/Kolkata'))\n",
    "        start_date = end_date - timedelta(hours=60)\n",
    "        interval = '1h'\n",
    "    else:\n",
    "        model = load_model('lstm_btc_V1.h5')\n",
    "        # Fetch daily data for the last 60 days\n",
    "        end_date = datetime.now(pytz.timezone('Asia/Kolkata'))\n",
    "        start_date = end_date - timedelta(days=60)\n",
    "        interval = '1d'\n",
    "\n",
    "    # Download Bitcoin data\n",
    "    data = yf.download('BTC-USD', start=start_date, end=end_date, interval=interval)\n",
    "    if data.index.tzinfo is None:  # If index is naive\n",
    "        data.index = data.index.tz_localize(pytz.utc).tz_convert('Asia/Kolkata')\n",
    "    else:\n",
    "        data.index = data.index.tz_convert('Asia/Kolkata')  # Convert to IST if already timezone-aware\n",
    "\n",
    "    # Scale the data\n",
    "    data = data[['Close']]\n",
    "    scaler = MinMaxScaler(feature_range=(0, 1))\n",
    "    scaled_data = scaler.fit_transform(data.values.reshape(-1, 1))\n",
    "\n",
    "    # Create sequences for prediction\n",
    "    sequence_length = min(len(scaled_data) - 1, 60)\n",
    "    X = np.array([scaled_data[i:i + sequence_length] for i in range(len(scaled_data) - sequence_length)])\n",
    "    if X.ndim == 2:\n",
    "        X = X.reshape((X.shape[0], X.shape[1], 1))\n",
    "    \n",
    "    last_data = scaled_data[-sequence_length:].reshape((1, sequence_length, 1))\n",
    "\n",
    "    return model, last_data, scaler, data.index[-1]\n"
   ]
  },
  {
   "cell_type": "code",
   "execution_count": 14,
   "id": "c7b30c0b",
   "metadata": {},
   "outputs": [],
   "source": [
    "# Function to forecast future prices\n",
    "def forecast_future_prices(model, last_data, n_periods, scaler, last_date, period='hours'):\n",
    "    predictions = []\n",
    "    dates = []\n",
    "    current_date = last_date\n",
    "    \n",
    "    for _ in range(n_periods):\n",
    "        pred_scaled = model.predict(last_data)\n",
    "        pred = scaler.inverse_transform(pred_scaled).flatten()\n",
    "        predictions.append(pred[0])\n",
    "        \n",
    "        if period == 'hours':\n",
    "            current_date = current_date + pd.Timedelta(hours=1)\n",
    "        else:\n",
    "            current_date = current_date + pd.Timedelta(days=1)\n",
    "        \n",
    "        dates.append(current_date)\n",
    "        last_data = np.roll(last_data, shift=-1, axis=1)\n",
    "        last_data[0, -1, 0] = pred_scaled[0, 0]\n",
    "\n",
    "    return dates, predictions"
   ]
  },
  {
   "cell_type": "code",
   "execution_count": 21,
   "id": "4298352f",
   "metadata": {},
   "outputs": [],
   "source": [
    "def on_button_click(b):\n",
    "    clear_output(wait=True)\n",
    "    n_days = int(dropdown.value)\n",
    "    \n",
    "    model, last_data, scaler, last_date = load_data_and_model(n_days)\n",
    "    n_periods = n_days if n_days > 1 else n_days * 24  # Hours for 1D, days for others\n",
    "    period = 'days' if n_days > 1 else 'hours'\n",
    "    \n",
    "    dates, predictions = forecast_future_prices(model, last_data, n_periods, scaler, last_date, period)\n",
    "\n",
    "    # Create a DataFrame for the forecast\n",
    "    forecast_df = pd.DataFrame({'Datetime': dates, 'Predicted Price': predictions})\n",
    "    \n",
    "    # Create an interactive plot with Plotly\n",
    "    fig = go.Figure()\n",
    "    \n",
    "    fig.add_trace(go.Scatter(x=forecast_df['Datetime'], y=forecast_df['Predicted Price'],\n",
    "                             mode='lines+markers', marker=dict(color='blue'), line=dict(width=2)))\n",
    "    \n",
    "    if n_days == 1:\n",
    "        fig.update_layout(title='Bitcoin Price Forecast for Next 24 Hours', \n",
    "                          xaxis_title='Time of Day', yaxis_title='Predicted Price', \n",
    "                          xaxis_tickformat='%H:%M')\n",
    "    else:\n",
    "        fig.update_layout(title=f'Bitcoin Price Forecast for Next {n_days} Days', \n",
    "                          xaxis_title='Date', yaxis_title='Predicted Price')\n",
    "        \n",
    "        fig.update_xaxes(\n",
    "            tickformat='%Y-%m-%d',\n",
    "            dtick='D1' if n_days <= 5 else ('D2' if n_days <= 15 else ('D5' if n_days <= 30 else 'M1')),  # Adjust tick interval\n",
    "            tickangle=-45,\n",
    "            tickvals=forecast_df['Datetime'][::max(1, len(forecast_df) // 20)],  # Show fewer ticks if too many\n",
    "            ticktext=[date.strftime('%Y-%m-%d') for date in forecast_df['Datetime'][::max(1, len(forecast_df) // 20)]]\n",
    "        )\n",
    "\n",
    "    fig.update_xaxes(rangeslider_visible=True)\n",
    "    fig.show()\n"
   ]
  },
  {
   "cell_type": "code",
   "execution_count": 25,
   "id": "79ba8d3c",
   "metadata": {},
   "outputs": [
    {
     "data": {
      "application/vnd.jupyter.widget-view+json": {
       "model_id": "66572538d3a14877a18a244d136d3d95",
       "version_major": 2,
       "version_minor": 0
      },
      "text/plain": [
       "Dropdown(description='Days to Forecast:', options=(('1 Day', 1), ('5 Days', 5), ('15 Days', 15), ('20 Days', 2…"
      ]
     },
     "metadata": {},
     "output_type": "display_data"
    },
    {
     "data": {
      "application/vnd.jupyter.widget-view+json": {
       "model_id": "26b9f92a4ba4400b93d135fb38f1e4ee",
       "version_major": 2,
       "version_minor": 0
      },
      "text/plain": [
       "Button(button_style='info', description='Forecast', style=ButtonStyle())"
      ]
     },
     "metadata": {},
     "output_type": "display_data"
    }
   ],
   "source": [
    "# Dropdown for user to select the number of days to forecast\n",
    "dropdown = widgets.Dropdown(\n",
    "    options=[('1 Day', 1), ('5 Days', 5), ('15 Days', 15), ('20 Days', 20), ('30 Days', 30)],\n",
    "    value=1,\n",
    "    description='Days to Forecast:',\n",
    "    style={'description_width': 'initial'}\n",
    ")\n",
    "display(dropdown)\n",
    "\n",
    "# Button to execute the forecast\n",
    "button = widgets.Button(description=\"Forecast\", button_style='info')\n",
    "button.on_click(on_button_click)\n",
    "display(button)"
   ]
  },
  {
   "cell_type": "code",
   "execution_count": null,
   "id": "c78d6cd9",
   "metadata": {},
   "outputs": [],
   "source": []
  }
 ],
 "metadata": {
  "kernelspec": {
   "display_name": "Python 3 (ipykernel)",
   "language": "python",
   "name": "python3"
  },
  "language_info": {
   "codemirror_mode": {
    "name": "ipython",
    "version": 3
   },
   "file_extension": ".py",
   "mimetype": "text/x-python",
   "name": "python",
   "nbconvert_exporter": "python",
   "pygments_lexer": "ipython3",
   "version": "3.11.5"
  }
 },
 "nbformat": 4,
 "nbformat_minor": 5
}
