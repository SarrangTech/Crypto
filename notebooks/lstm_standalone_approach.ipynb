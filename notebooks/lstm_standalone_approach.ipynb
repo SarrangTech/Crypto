{
 "cells": [
  {
   "cell_type": "code",
   "execution_count": 50,
   "id": "af5eee0f",
   "metadata": {},
   "outputs": [
    {
     "name": "stdout",
     "output_type": "stream",
     "text": [
      "2.17.0\n"
     ]
    },
    {
     "data": {
      "text/plain": [
       "'ENSURE YOUR USING TENSORFLOW VERSION 2.17.0\\n'"
      ]
     },
     "execution_count": 50,
     "metadata": {},
     "output_type": "execute_result"
    }
   ],
   "source": [
    "import tensorflow as tf\n",
    "print(tf.__version__)\n",
    "\"\"\"ENSURE YOUR USING TENSORFLOW VERSION 2.17.0\n",
    "\"\"\"\n"
   ]
  },
  {
   "cell_type": "markdown",
   "id": "092c1500",
   "metadata": {},
   "source": [
    "### STEP 1: LOAD BELOW LIBRARIES"
   ]
  },
  {
   "cell_type": "code",
   "execution_count": 92,
   "id": "504d280e",
   "metadata": {},
   "outputs": [
    {
     "data": {
      "text/plain": [
       "'\\nMANDATORY LIBRARIES***\\n\\ntensorflow \\nscikit-learn\\nyfinance\\npandas\\n\\n'"
      ]
     },
     "execution_count": 92,
     "metadata": {},
     "output_type": "execute_result"
    }
   ],
   "source": [
    "\"\"\"\n",
    "MANDATORY LIBRARIES***\n",
    "\n",
    "tensorflow \n",
    "scikit-learn\n",
    "yfinance\n",
    "pandas\n",
    "\n",
    "\"\"\""
   ]
  },
  {
   "cell_type": "code",
   "execution_count": 107,
   "id": "9153c876",
   "metadata": {},
   "outputs": [
    {
     "data": {
      "text/plain": [
       "'\\nUSE ABOVE TO SUPPRESS UNWANTED WARNINGS\\n'"
      ]
     },
     "execution_count": 107,
     "metadata": {},
     "output_type": "execute_result"
    }
   ],
   "source": [
    "import numpy as np\n",
    "import pandas as pd\n",
    "from tensorflow.keras.models import load_model\n",
    "from sklearn.preprocessing import MinMaxScaler\n",
    "import yfinance as yf\n",
    "from datetime import datetime, timedelta\n",
    "import warnings\n",
    "warnings.filterwarnings(\"ignore\")\n",
    "\"\"\"\n",
    "USE ABOVE TO SUPPRESS UNWANTED WARNINGS\n",
    "\"\"\""
   ]
  },
  {
   "cell_type": "markdown",
   "id": "a615ee09",
   "metadata": {},
   "source": [
    "### STEP 2. Loading the Trained Model "
   ]
  },
  {
   "cell_type": "code",
   "execution_count": 108,
   "id": "190db248",
   "metadata": {},
   "outputs": [
    {
     "name": "stderr",
     "output_type": "stream",
     "text": [
      "WARNING:absl:Compiled the loaded model, but the compiled metrics have yet to be built. `model.compile_metrics` will be empty until you train or evaluate the model.\n"
     ]
    },
    {
     "data": {
      "text/plain": [
       "\"\\nLoads the pre-trained LSTM model that will be used to predict future\\nBitcoin prices. Without this, you can't make predictions.\\n\""
      ]
     },
     "execution_count": 108,
     "metadata": {},
     "output_type": "execute_result"
    }
   ],
   "source": [
    "model = load_model('lstm_btc_V1.h5')\n",
    "\"\"\"\n",
    "Loads the pre-trained LSTM model that will be used to predict future\n",
    "Bitcoin prices. Without this, you can't make predictions.\n",
    "\"\"\""
   ]
  },
  {
   "cell_type": "markdown",
   "id": "020a4595",
   "metadata": {},
   "source": [
    "### STEP 3. Fetching Bitcoin Data"
   ]
  },
  {
   "cell_type": "code",
   "execution_count": 95,
   "id": "3a76f51f",
   "metadata": {},
   "outputs": [
    {
     "data": {
      "text/plain": [
       "'LOAD AND DISPLAY THIS DATA IN HOMEPAGE AS SOON AS PROGRAM RUNS'"
      ]
     },
     "execution_count": 95,
     "metadata": {},
     "output_type": "execute_result"
    }
   ],
   "source": [
    "\n",
    "\"\"\"\n",
    "Fetches the last 60 days of Bitcoin price data from Yahoo Finance. This data is necessary for making the predictions.\n",
    "data[['Close']]: Only the closing prices are used, which are typically what you want to predict.\n",
    "\"\"\"\n",
    "\n",
    "\"\"\"LOAD AND DISPLAY THIS DATA IN HOMEPAGE AS SOON AS PROGRAM RUNS\"\"\""
   ]
  },
  {
   "cell_type": "code",
   "execution_count": 109,
   "id": "6a003b34",
   "metadata": {},
   "outputs": [
    {
     "name": "stderr",
     "output_type": "stream",
     "text": [
      "[*********************100%%**********************]  1 of 1 completed\n"
     ]
    }
   ],
   "source": [
    "import yfinance as yf\n",
    "import pandas as pd\n",
    "from datetime import datetime, timedelta\n",
    "\n",
    "# Define the ticker symbol for Bitcoin\n",
    "ticker = 'BTC-USD'\n",
    "\n",
    "# Calculate the date 60 days before today\n",
    "end_date = datetime.now()\n",
    "start_date = end_date - timedelta(days=60)\n",
    "\n",
    "# Download Bitcoin data\n",
    "data = yf.download(ticker, start=start_date, end=end_date)\n",
    "\n",
    "# Select and rename columns if necessary\n",
    "data = data[['Close']]\n",
    "data.rename(columns={'Close': 'Close'}, inplace=True)"
   ]
  },
  {
   "cell_type": "markdown",
   "id": "0997e5ea",
   "metadata": {},
   "source": [
    "###  STEP 4. Scaling the Data"
   ]
  },
  {
   "cell_type": "code",
   "execution_count": 97,
   "id": "91826776",
   "metadata": {},
   "outputs": [
    {
     "data": {
      "text/plain": [
       "'\\nScaling: Transforms the data into a range between 0 and 1, which is crucial for the model to make accurate predictions. \\nThe model was trained on scaled data, so the input must be scaled similarly.\\n'"
      ]
     },
     "execution_count": 97,
     "metadata": {},
     "output_type": "execute_result"
    }
   ],
   "source": [
    "\"\"\"\n",
    "Scaling: Transforms the data into a range between 0 and 1, which is crucial for the model to make accurate predictions. \n",
    "The model was trained on scaled data, so the input must be scaled similarly.\n",
    "\"\"\""
   ]
  },
  {
   "cell_type": "code",
   "execution_count": 111,
   "id": "08a1a692",
   "metadata": {
    "scrolled": true
   },
   "outputs": [
    {
     "name": "stdout",
     "output_type": "stream",
     "text": [
      "Length of scaled_data: 60\n"
     ]
    }
   ],
   "source": [
    "import numpy as np\n",
    "from sklearn.preprocessing import MinMaxScaler\n",
    "import yfinance as yf\n",
    "import pandas as pd\n",
    "from datetime import datetime, timedelta\n",
    "\n",
    "# Scale the data\n",
    "scaler = MinMaxScaler(feature_range=(0, 1))\n",
    "scaled_data = scaler.fit_transform(data.values.reshape(-1, 1))\n",
    "\n",
    "# Print length of scaled data\n",
    "print(\"Length of scaled_data:\", len(scaled_data))\n"
   ]
  },
  {
   "cell_type": "markdown",
   "id": "b656178d",
   "metadata": {},
   "source": [
    "### STEP 5. CREATING SEQUENCES"
   ]
  },
  {
   "cell_type": "code",
   "execution_count": 99,
   "id": "d8fac307",
   "metadata": {},
   "outputs": [
    {
     "data": {
      "text/plain": [
       "'\\nSequence Creation: The model predicts based on a sequence of previous prices. This function splits the data into \\nsequences of a specified length (e.g., 60 days of prices to predict the next day’s price).\\n'"
      ]
     },
     "execution_count": 99,
     "metadata": {},
     "output_type": "execute_result"
    }
   ],
   "source": [
    "\"\"\"\n",
    "Sequence Creation: The model predicts based on a sequence of previous prices. This function splits the data into \n",
    "sequences of a specified length (e.g., 60 days of prices to predict the next day’s price).\n",
    "\"\"\""
   ]
  },
  {
   "cell_type": "code",
   "execution_count": 112,
   "id": "d34f5c2a",
   "metadata": {},
   "outputs": [
    {
     "name": "stdout",
     "output_type": "stream",
     "text": [
      "Shape of X before reshaping: (1, 59, 1)\n",
      "Shape of y: (1, 1)\n",
      "Shape of X after reshaping: (1, 59, 1)\n",
      "Shape of y: (1, 1)\n"
     ]
    }
   ],
   "source": [
    "# Define a function to create sequences for LSTM\n",
    "def create_sequences(data, sequence_length):\n",
    "    X, y = [], []\n",
    "    for i in range(len(data) - sequence_length):\n",
    "        X.append(data[i:i + sequence_length])\n",
    "        y.append(data[i + sequence_length])\n",
    "    return np.array(X), np.array(y)\n",
    "\n",
    "# Define sequence length (shorten to fit available data)\n",
    "sequence_length = min(60, len(scaled_data) - 1)  # Shorten to 30 if not enough data for 60\n",
    "\n",
    "# Check if data length is sufficient\n",
    "if len(scaled_data) > sequence_length:\n",
    "    # Create sequences\n",
    "    X, y = create_sequences(scaled_data, sequence_length)\n",
    "    \n",
    "    # Print shapes to debug\n",
    "    print(\"Shape of X before reshaping:\", X.shape)\n",
    "    print(\"Shape of y:\", y.shape)\n",
    "    \n",
    "    # Reshape X if necessary\n",
    "    if len(X.shape) == 2:\n",
    "        X = X.reshape((X.shape[0], X.shape[1], 1))\n",
    "\n",
    "    # Display shapes of X and y\n",
    "    print(\"Shape of X after reshaping:\", X.shape)\n",
    "    print(\"Shape of y:\", y.shape)\n",
    "else:\n",
    "    print(f\"Not enough data to create sequences. Length of data: {len(scaled_data)}, Sequence length: {sequence_length}\")"
   ]
  },
  {
   "cell_type": "markdown",
   "id": "6b3031a1",
   "metadata": {},
   "source": [
    "### STEP 6. Preparing Data for Prediction"
   ]
  },
  {
   "cell_type": "code",
   "execution_count": 113,
   "id": "af01c60d",
   "metadata": {},
   "outputs": [
    {
     "data": {
      "text/plain": [
       "\"\\nPreparing the last sequence of data: This data is the input to the model for predicting future prices. \\nIt's reshaped to match the input shape expected by the model.\\n\""
      ]
     },
     "execution_count": 113,
     "metadata": {},
     "output_type": "execute_result"
    }
   ],
   "source": [
    "\"\"\"\n",
    "Preparing the last sequence of data: This data is the input to the model for predicting future prices. \n",
    "It's reshaped to match the input shape expected by the model.\n",
    "\"\"\""
   ]
  },
  {
   "cell_type": "code",
   "execution_count": 114,
   "id": "7fa4157b",
   "metadata": {},
   "outputs": [],
   "source": [
    "# Prepare the latest data for prediction\n",
    "if len(scaled_data) >= sequence_length:\n",
    "    last_data = scaled_data[-sequence_length:]\n",
    "    last_data = last_data.reshape((1, sequence_length, 1))  # Reshape for model input\n",
    "else:\n",
    "    raise ValueError(\"Not enough data for prediction. Please collect more data.\")\n"
   ]
  },
  {
   "cell_type": "markdown",
   "id": "4a5f7696",
   "metadata": {},
   "source": [
    "### STEP 7. Forecasting Future Prices"
   ]
  },
  {
   "cell_type": "code",
   "execution_count": 115,
   "id": "1b9c560e",
   "metadata": {},
   "outputs": [
    {
     "data": {
      "text/plain": [
       "'\\nforecast_future_prices Function: This is where the magic happens. The model uses the most recent data to predict future prices. \\nThe function:\\nPredicts the price for the next day.\\nAdds this prediction to the list and shifts the input data to use this prediction for the next day’s prediction.\\nContinues this for as many days as requested.\\n'"
      ]
     },
     "execution_count": 115,
     "metadata": {},
     "output_type": "execute_result"
    }
   ],
   "source": [
    "\"\"\"\n",
    "forecast_future_prices Function: This is where the magic happens. The model uses the most recent data to predict future prices. \n",
    "The function:\n",
    "Predicts the price for the next day.\n",
    "Adds this prediction to the list and shifts the input data to use this prediction for the next day’s prediction.\n",
    "Continues this for as many days as requested.\n",
    "\"\"\""
   ]
  },
  {
   "cell_type": "code",
   "execution_count": 116,
   "id": "25904424",
   "metadata": {},
   "outputs": [],
   "source": [
    "import numpy as np\n",
    "import pandas as pd\n",
    "import matplotlib.pyplot as plt\n",
    "from tensorflow.keras.models import load_model\n",
    "from sklearn.preprocessing import MinMaxScaler\n",
    "import ipywidgets as widgets\n",
    "from IPython.display import display, clear_output\n",
    "\n",
    "# Function to forecast future prices\n",
    "def forecast_future_prices(model, last_data, n_days, scaler, last_date):\n",
    "    predictions = []\n",
    "    dates = []\n",
    "    \n",
    "    # Initialize the current date to the last date in the data\n",
    "    current_date = last_date\n",
    "    \n",
    "    for _ in range(n_days):\n",
    "        # Predict the next value\n",
    "        pred_scaled = model.predict(last_data)\n",
    "        pred = scaler.inverse_transform(pred_scaled).flatten()\n",
    "        \n",
    "        # Append the prediction and date\n",
    "        predictions.append(pred[0])\n",
    "        current_date = current_date + pd.Timedelta(days=1)\n",
    "        dates.append(current_date.date())\n",
    "        \n",
    "        # Update last_data for the next prediction\n",
    "        last_data = np.roll(last_data, shift=-1, axis=1)\n",
    "        last_data[0, -1, 0] = pred_scaled[0, 0]\n",
    "    \n",
    "    return dates, predictions\n"
   ]
  },
  {
   "cell_type": "markdown",
   "id": "e846cad1",
   "metadata": {},
   "source": [
    "### STEP 8.Handling User Input and Displaying the Forecast"
   ]
  },
  {
   "cell_type": "code",
   "execution_count": 117,
   "id": "7ebb35d2",
   "metadata": {},
   "outputs": [
    {
     "data": {
      "text/plain": [
       "'\\n After making predictions, the results are displayed in a table and a line chart, \\n showing how the predicted price changes over time. IF POSSIBLE MAKE IT DYNAMIC EG CHART SHOULD REACTLIVE TO SLIDER\\n'"
      ]
     },
     "execution_count": 117,
     "metadata": {},
     "output_type": "execute_result"
    }
   ],
   "source": [
    "\"\"\"\n",
    " After making predictions, the results are displayed in a table and a line chart, \n",
    " showing how the predicted price changes over time. IF POSSIBLE MAKE IT DYNAMIC EG CHART SHOULD REACTLIVE TO SLIDER\n",
    "\"\"\""
   ]
  },
  {
   "cell_type": "code",
   "execution_count": 123,
   "id": "360060f9",
   "metadata": {
    "scrolled": false
   },
   "outputs": [
    {
     "name": "stdout",
     "output_type": "stream",
     "text": [
      "Forecasting for 21 days.\n",
      "\u001b[1m1/1\u001b[0m \u001b[32m━━━━━━━━━━━━━━━━━━━━\u001b[0m\u001b[37m\u001b[0m \u001b[1m0s\u001b[0m 27ms/step\n",
      "\u001b[1m1/1\u001b[0m \u001b[32m━━━━━━━━━━━━━━━━━━━━\u001b[0m\u001b[37m\u001b[0m \u001b[1m0s\u001b[0m 41ms/step\n",
      "\u001b[1m1/1\u001b[0m \u001b[32m━━━━━━━━━━━━━━━━━━━━\u001b[0m\u001b[37m\u001b[0m \u001b[1m0s\u001b[0m 32ms/step\n",
      "\u001b[1m1/1\u001b[0m \u001b[32m━━━━━━━━━━━━━━━━━━━━\u001b[0m\u001b[37m\u001b[0m \u001b[1m0s\u001b[0m 72ms/step\n",
      "\u001b[1m1/1\u001b[0m \u001b[32m━━━━━━━━━━━━━━━━━━━━\u001b[0m\u001b[37m\u001b[0m \u001b[1m0s\u001b[0m 41ms/step\n",
      "\u001b[1m1/1\u001b[0m \u001b[32m━━━━━━━━━━━━━━━━━━━━\u001b[0m\u001b[37m\u001b[0m \u001b[1m0s\u001b[0m 27ms/step\n",
      "\u001b[1m1/1\u001b[0m \u001b[32m━━━━━━━━━━━━━━━━━━━━\u001b[0m\u001b[37m\u001b[0m \u001b[1m0s\u001b[0m 45ms/step\n",
      "\u001b[1m1/1\u001b[0m \u001b[32m━━━━━━━━━━━━━━━━━━━━\u001b[0m\u001b[37m\u001b[0m \u001b[1m0s\u001b[0m 28ms/step\n",
      "\u001b[1m1/1\u001b[0m \u001b[32m━━━━━━━━━━━━━━━━━━━━\u001b[0m\u001b[37m\u001b[0m \u001b[1m0s\u001b[0m 27ms/step\n",
      "\u001b[1m1/1\u001b[0m \u001b[32m━━━━━━━━━━━━━━━━━━━━\u001b[0m\u001b[37m\u001b[0m \u001b[1m0s\u001b[0m 47ms/step\n",
      "\u001b[1m1/1\u001b[0m \u001b[32m━━━━━━━━━━━━━━━━━━━━\u001b[0m\u001b[37m\u001b[0m \u001b[1m0s\u001b[0m 37ms/step\n",
      "\u001b[1m1/1\u001b[0m \u001b[32m━━━━━━━━━━━━━━━━━━━━\u001b[0m\u001b[37m\u001b[0m \u001b[1m0s\u001b[0m 35ms/step\n",
      "\u001b[1m1/1\u001b[0m \u001b[32m━━━━━━━━━━━━━━━━━━━━\u001b[0m\u001b[37m\u001b[0m \u001b[1m0s\u001b[0m 38ms/step\n",
      "\u001b[1m1/1\u001b[0m \u001b[32m━━━━━━━━━━━━━━━━━━━━\u001b[0m\u001b[37m\u001b[0m \u001b[1m0s\u001b[0m 30ms/step\n",
      "\u001b[1m1/1\u001b[0m \u001b[32m━━━━━━━━━━━━━━━━━━━━\u001b[0m\u001b[37m\u001b[0m \u001b[1m0s\u001b[0m 44ms/step\n",
      "\u001b[1m1/1\u001b[0m \u001b[32m━━━━━━━━━━━━━━━━━━━━\u001b[0m\u001b[37m\u001b[0m \u001b[1m0s\u001b[0m 45ms/step\n",
      "\u001b[1m1/1\u001b[0m \u001b[32m━━━━━━━━━━━━━━━━━━━━\u001b[0m\u001b[37m\u001b[0m \u001b[1m0s\u001b[0m 40ms/step\n",
      "\u001b[1m1/1\u001b[0m \u001b[32m━━━━━━━━━━━━━━━━━━━━\u001b[0m\u001b[37m\u001b[0m \u001b[1m0s\u001b[0m 39ms/step\n",
      "\u001b[1m1/1\u001b[0m \u001b[32m━━━━━━━━━━━━━━━━━━━━\u001b[0m\u001b[37m\u001b[0m \u001b[1m0s\u001b[0m 52ms/step\n",
      "\u001b[1m1/1\u001b[0m \u001b[32m━━━━━━━━━━━━━━━━━━━━\u001b[0m\u001b[37m\u001b[0m \u001b[1m0s\u001b[0m 31ms/step\n",
      "\u001b[1m1/1\u001b[0m \u001b[32m━━━━━━━━━━━━━━━━━━━━\u001b[0m\u001b[37m\u001b[0m \u001b[1m0s\u001b[0m 28ms/step\n",
      "          Date  Predicted Price\n",
      "0   2024-08-25     62146.238281\n",
      "1   2024-08-26     62814.707031\n",
      "2   2024-08-27     63455.863281\n",
      "3   2024-08-28     64066.683594\n",
      "4   2024-08-29     64646.164062\n",
      "5   2024-08-30     65192.382812\n",
      "6   2024-08-31     65701.140625\n",
      "7   2024-09-01     66165.351562\n",
      "8   2024-09-02     66576.132812\n",
      "9   2024-09-03     66924.085938\n",
      "10  2024-09-04     67199.875000\n",
      "11  2024-09-05     67395.765625\n",
      "12  2024-09-06     67507.281250\n",
      "13  2024-09-07     67531.281250\n",
      "14  2024-09-08     67467.796875\n",
      "15  2024-09-09     67319.976562\n",
      "16  2024-09-10     67093.492188\n",
      "17  2024-09-11     66796.460938\n",
      "18  2024-09-12     66439.375000\n",
      "19  2024-09-13     66034.976562\n",
      "20  2024-09-14     65597.257812\n"
     ]
    },
    {
     "data": {
      "image/png": "[encoded data removed]",
      "text/plain": [
       "<Figure size 1000x600 with 1 Axes>"
      ]
     },
     "metadata": {},
     "output_type": "display_data"
    }
   ],
   "source": [
    "\n",
    "# Function to be called on button click\n",
    "def on_button_click(b):\n",
    "    clear_output(wait=True)\n",
    "    n_days = slider.value\n",
    "    print(f\"Forecasting for {n_days} days.\")\n",
    "    \n",
    "    # Define 'last_date' as the last date of your data\n",
    "    last_date = pd.Timestamp.today()  # Example; replace with the actual last date from your dataset\n",
    "    \n",
    "    # Assuming 'last_data' and 'scaler' are already defined\n",
    "    dates, predictions = forecast_future_prices(model, last_data, n_days, scaler, last_date)\n",
    "    \n",
    "    # Display the forecast dates and predictions\n",
    "    forecast_df = pd.DataFrame({\n",
    "        'Date': dates,\n",
    "        'Predicted Price': predictions\n",
    "    })\n",
    "    print(forecast_df)\n",
    "    \n",
    "    # Plot the predictions\n",
    "    plt.figure(figsize=(10, 6))\n",
    "    plt.plot(forecast_df['Date'], forecast_df['Predicted Price'], marker='o', color='blue', linestyle='-', linewidth=2, markersize=5)\n",
    "    plt.title(f'Bitcoin Price Forecast for {n_days} Days')\n",
    "    plt.xlabel('Date')\n",
    "    plt.ylabel('Predicted Price')\n",
    "    plt.grid(True)\n",
    "    plt.xticks(rotation=45)\n",
    "    plt.show()\n",
    "\n",
    "# Slider for user to select the number of days to forecast\n",
    "slider = widgets.IntSlider(\n",
    "    value=7,\n",
    "    min=7,\n",
    "    max=30,\n",
    "    step=7,\n",
    "    description='Days to Forecast:',\n",
    "    style={'description_width': 'initial'}\n",
    ")\n",
    "display(slider)\n",
    "\n",
    "# Button to execute the forecast\n",
    "button = widgets.Button(description=\"Forecast\", button_style='info')\n",
    "button.on_click(on_button_click)\n",
    "display(button)"
   ]
  },
  {
   "cell_type": "code",
   "execution_count": null,
   "id": "2de9c108",
   "metadata": {},
   "outputs": [],
   "source": []
  },
  {
   "cell_type": "code",
   "execution_count": null,
   "id": "4d925654",
   "metadata": {},
   "outputs": [],
   "source": []
  }
 ],
 "metadata": {
  "kernelspec": {
   "display_name": "Python 3 (ipykernel)",
   "language": "python",
   "name": "python3"
  },
  "language_info": {
   "codemirror_mode": {
    "name": "ipython",
    "version": 3
   },
   "file_extension": ".py",
   "mimetype": "text/x-python",
   "name": "python",
   "nbconvert_exporter": "python",
   "pygments_lexer": "ipython3",
   "version": "3.11.5"
  }
 },
 "nbformat": 4,
 "nbformat_minor": 5
}
